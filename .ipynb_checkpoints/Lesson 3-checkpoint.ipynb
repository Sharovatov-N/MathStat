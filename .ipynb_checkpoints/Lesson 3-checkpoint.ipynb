{
 "cells": [
  {
   "cell_type": "markdown",
   "metadata": {},
   "source": [
    "### Урок 3"
   ]
  },
  {
   "cell_type": "code",
   "execution_count": 1,
   "metadata": {},
   "outputs": [],
   "source": [
    "import numpy as np\n",
    "import pandas as pd"
   ]
  },
  {
   "cell_type": "markdown",
   "metadata": {},
   "source": [
    "#### 1. Даны значения зарплат из выборки выпускников: 100, 80, 75, 77, 89, 33, 45, 25, 65, 17, 30, 24, 57, 55, 70, 75, 65, 84, 90, 150. Посчитать (желательно без использования статистических методов наподобие std, var, mean) среднее арифметическое, среднее квадратичное отклонение, смещенную и несмещенную оценки дисперсий для данной выборки."
   ]
  },
  {
   "cell_type": "code",
   "execution_count": 2,
   "metadata": {},
   "outputs": [
    {
     "data": {
      "text/html": [
       "<div>\n",
       "<style scoped>\n",
       "    .dataframe tbody tr th:only-of-type {\n",
       "        vertical-align: middle;\n",
       "    }\n",
       "\n",
       "    .dataframe tbody tr th {\n",
       "        vertical-align: top;\n",
       "    }\n",
       "\n",
       "    .dataframe thead th {\n",
       "        text-align: right;\n",
       "    }\n",
       "</style>\n",
       "<table border=\"1\" class=\"dataframe\">\n",
       "  <thead>\n",
       "    <tr style=\"text-align: right;\">\n",
       "      <th></th>\n",
       "      <th>salary</th>\n",
       "    </tr>\n",
       "  </thead>\n",
       "  <tbody>\n",
       "    <tr>\n",
       "      <th>0</th>\n",
       "      <td>100</td>\n",
       "    </tr>\n",
       "    <tr>\n",
       "      <th>1</th>\n",
       "      <td>80</td>\n",
       "    </tr>\n",
       "    <tr>\n",
       "      <th>2</th>\n",
       "      <td>75</td>\n",
       "    </tr>\n",
       "    <tr>\n",
       "      <th>3</th>\n",
       "      <td>77</td>\n",
       "    </tr>\n",
       "    <tr>\n",
       "      <th>4</th>\n",
       "      <td>89</td>\n",
       "    </tr>\n",
       "    <tr>\n",
       "      <th>5</th>\n",
       "      <td>33</td>\n",
       "    </tr>\n",
       "    <tr>\n",
       "      <th>6</th>\n",
       "      <td>45</td>\n",
       "    </tr>\n",
       "    <tr>\n",
       "      <th>7</th>\n",
       "      <td>25</td>\n",
       "    </tr>\n",
       "    <tr>\n",
       "      <th>8</th>\n",
       "      <td>65</td>\n",
       "    </tr>\n",
       "    <tr>\n",
       "      <th>9</th>\n",
       "      <td>17</td>\n",
       "    </tr>\n",
       "    <tr>\n",
       "      <th>10</th>\n",
       "      <td>30</td>\n",
       "    </tr>\n",
       "    <tr>\n",
       "      <th>11</th>\n",
       "      <td>24</td>\n",
       "    </tr>\n",
       "    <tr>\n",
       "      <th>12</th>\n",
       "      <td>57</td>\n",
       "    </tr>\n",
       "    <tr>\n",
       "      <th>13</th>\n",
       "      <td>55</td>\n",
       "    </tr>\n",
       "    <tr>\n",
       "      <th>14</th>\n",
       "      <td>70</td>\n",
       "    </tr>\n",
       "    <tr>\n",
       "      <th>15</th>\n",
       "      <td>75</td>\n",
       "    </tr>\n",
       "    <tr>\n",
       "      <th>16</th>\n",
       "      <td>65</td>\n",
       "    </tr>\n",
       "    <tr>\n",
       "      <th>17</th>\n",
       "      <td>84</td>\n",
       "    </tr>\n",
       "    <tr>\n",
       "      <th>18</th>\n",
       "      <td>90</td>\n",
       "    </tr>\n",
       "    <tr>\n",
       "      <th>19</th>\n",
       "      <td>150</td>\n",
       "    </tr>\n",
       "  </tbody>\n",
       "</table>\n",
       "</div>"
      ],
      "text/plain": [
       "    salary\n",
       "0      100\n",
       "1       80\n",
       "2       75\n",
       "3       77\n",
       "4       89\n",
       "5       33\n",
       "6       45\n",
       "7       25\n",
       "8       65\n",
       "9       17\n",
       "10      30\n",
       "11      24\n",
       "12      57\n",
       "13      55\n",
       "14      70\n",
       "15      75\n",
       "16      65\n",
       "17      84\n",
       "18      90\n",
       "19     150"
      ]
     },
     "execution_count": 2,
     "metadata": {},
     "output_type": "execute_result"
    }
   ],
   "source": [
    "df = pd.DataFrame({'salary':[100, 80, 75, 77, 89, 33, 45, 25, 65, 17, 30, 24, 57, 55, 70, 75, 65, 84, 90, 150]})\n",
    "df"
   ]
  },
  {
   "cell_type": "code",
   "execution_count": 3,
   "metadata": {},
   "outputs": [
    {
     "data": {
      "text/plain": [
       "(20, 1)"
      ]
     },
     "execution_count": 3,
     "metadata": {},
     "output_type": "execute_result"
    }
   ],
   "source": [
    "df.shape"
   ]
  },
  {
   "cell_type": "markdown",
   "metadata": {},
   "source": [
    "Найдем среднее арифметическое по формуле:$$M(X) = \\frac{1}{n} \\sum\\limits_{i=1}^{n} x_i$$"
   ]
  },
  {
   "cell_type": "code",
   "execution_count": 4,
   "metadata": {},
   "outputs": [
    {
     "data": {
      "text/plain": [
       "65.3"
      ]
     },
     "execution_count": 4,
     "metadata": {},
     "output_type": "execute_result"
    }
   ],
   "source": [
    "mean_salary = df['salary'].sum() / df['salary'].count()\n",
    "mean_salary"
   ]
  },
  {
   "cell_type": "markdown",
   "metadata": {},
   "source": [
    "Найдем среднее квадратичное отклонение по формуле:$$\\sigma = \\sqrt{\\frac{\\sum\\limits_{i=1}^{n} (x_i - \\overline{x})^2}{n}}$$"
   ]
  },
  {
   "cell_type": "code",
   "execution_count": 5,
   "metadata": {},
   "outputs": [
    {
     "data": {
      "text/plain": [
       "30.823854398825596"
      ]
     },
     "execution_count": 5,
     "metadata": {},
     "output_type": "execute_result"
    }
   ],
   "source": [
    "salary_std = np.sqrt(((df['salary'] - mean_salary)**2).sum() / df['salary'].count())\n",
    "salary_std"
   ]
  },
  {
   "cell_type": "markdown",
   "metadata": {},
   "source": [
    "Найдем смещенную оценку дисперсий по формуле:$$\\sigma^2 = \\frac{\\sum\\limits_{i=1}^{n} (x_i - \\overline{x})^2}{n}$$"
   ]
  },
  {
   "cell_type": "code",
   "execution_count": 6,
   "metadata": {},
   "outputs": [
    {
     "data": {
      "text/plain": [
       "950.11"
      ]
     },
     "execution_count": 6,
     "metadata": {},
     "output_type": "execute_result"
    }
   ],
   "source": [
    "salary_variance = ((df['salary'] - mean_salary)**2).sum() / df['salary'].count()\n",
    "salary_variance"
   ]
  },
  {
   "cell_type": "markdown",
   "metadata": {},
   "source": [
    "Найдем несмещенную оценку дисперсий по формуле:$$\\sigma^2_{несмещ.} = \\frac{\\sum\\limits_{i=1}^{n} (x_i - \\overline{x})^2}{n - 1}$$"
   ]
  },
  {
   "cell_type": "code",
   "execution_count": 7,
   "metadata": {},
   "outputs": [
    {
     "data": {
      "text/plain": [
       "1000.1157894736842"
      ]
     },
     "execution_count": 7,
     "metadata": {},
     "output_type": "execute_result"
    }
   ],
   "source": [
    "salary_variance2 = ((df['salary'] - mean_salary)**2).sum() / (df['salary'].count() - 1)\n",
    "salary_variance2"
   ]
  },
  {
   "cell_type": "markdown",
   "metadata": {},
   "source": [
    "#### 2. В первом ящике находится 8 мячей, из которых 5 - белые. Во втором ящике - 12 мячей, из которых 5 белых. Из первого ящика вытаскивают случайным образом два мяча, из второго - 4. Какова вероятность того, что 3 мяча белые?"
   ]
  },
  {
   "cell_type": "markdown",
   "metadata": {},
   "source": [
    "* Ящик №1<br>\n",
    "Находим общее число равновозможных исходов  (полная группа событий):$$n=C_{8}^2=28$$\n",
    "Событие А - 2 белых + 0<br>\n",
    "Находим число благоприятсвующих исходов:$$m=C_{5}^2=10$$\n",
    "Событие В - 1 белый +1<br>\n",
    "Находим число благоприятсвующих исходов:$$m=C_{5}^1\\cdot C_3^1=5\\cdot3=15$$\n",
    "Событие С - 0 белых + 2<br>\n",
    "Находим число благоприятсвующих исходов:$$m=C_{3}^2=3$$\n",
    "Находим вероятность наступления события А:$$P_1(A)=\\frac{m}{n}=\\frac{10}{28}=0.3571$$\n",
    "Находим вероятность наступления события B:$$P_1(B)=\\frac{m}{n}=\\frac{15}{28}=0.5357$$\n",
    "Находим вероятность наступления события C:$$P_1(C)=\\frac{m}{n}=\\frac{3}{28}=0.1071$$\n",
    "* Ящик №2<br>\n",
    "Находим общее число равновозможных исходов  (полная группа событий):$$n=C_{12}^4=495$$\n",
    "Событие А - 3 белых + 1<br>\n",
    "Находим число благоприятсвующих исходов:$$m=C_{5}^3\\cdot C_7^1 =70$$\n",
    "Событие В - 2 белый +2<br>\n",
    "Находим число благоприятсвующих исходов:$$m=C_{5}^2\\cdot C_7^2=210$$\n",
    "Событие С - 1 белых + 3<br>\n",
    "Находим число благоприятсвующих исходов:$$m=C_{5}^1\\cdot C_3^3=175$$\n",
    "Находим вероятность наступления события А:$$P_2(A)=\\frac{m}{n}=\\frac{70}{495}=0.1414$$\n",
    "Находим вероятность наступления события B:$$P_2(B)=\\frac{m}{n}=\\frac{210}{495}=0.4242$$\n",
    "Находим вероятность наступления события C:$$P_2(C)=\\frac{m}{n}=\\frac{175}{495}=0.3535$$\n",
    "**Находим вероятность того, что три мяча белые:** $$P(F)=P_1(A)\\cdot P_2(C)+P_1(B)\\cdot P_2(B)+P_1(C)\\cdot P_2(A)=0.3686$$"
   ]
  },
  {
   "cell_type": "markdown",
   "metadata": {},
   "source": [
    "#### 3. На соревновании по биатлону один из трех спортсменов стреляет и попадает в мишень. Вероятность попадания для первого спортсмена равна 0.9, для второго — 0.8, для третьего — 0.6. Найти вероятность того, что выстрел произведен: a). первым спортсменом б). вторым спортсменом в). третьим спортсменом."
   ]
  },
  {
   "cell_type": "markdown",
   "metadata": {},
   "source": [
    "Чтобы определить вероятность события $B$ при условии, что событие $A$ уже произошло, используют формулу Байеса:$$P(B\\:|\\:A) = \\frac{P(B) \\cdot P(A\\:|\\:B)}{P(A)}$$"
   ]
  },
  {
   "cell_type": "markdown",
   "metadata": {},
   "source": [
    "Событием $A$ будем считать попадание в мишень, а событиями $B_1, B_2$ и $B_3$ — что выстрел совершил первый, второй или третий спортсмен:\n",
    "$$P(A\\:|\\:B_1) = 0.9$$\n",
    "\n",
    "$$P(A\\:|\\:B_2) = 0.8$$\n",
    "\n",
    "$$P(A\\:|\\:B_3) = 0.6$$"
   ]
  },
  {
   "cell_type": "markdown",
   "metadata": {},
   "source": [
    "У всех спортсменов равные возможности выстрелить значит $B_1=B_2=B_3=\\frac{1}{3}$"
   ]
  },
  {
   "cell_type": "markdown",
   "metadata": {},
   "source": [
    "$$P(A) = P(B_1) \\cdot P(A\\:|\\:B_1) + P(B_2) \\cdot P(A\\:|\\:B_2) + P(B_3) \\cdot P(A\\:|\\:B_3)=\\frac{1}{3} \\cdot 0.9 + \\frac{1}{3} \\cdot 0.8 + \\frac{1}{3} \\cdot 0.6=0.7667$$"
   ]
  },
  {
   "cell_type": "markdown",
   "metadata": {},
   "source": [
    "* Вероятность того, что стрелял первый спортсмен — при условии, что выстрел был удачным\n",
    "$$P(B_1\\:|\\:A) = \\frac{P(B_1) \\cdot P(A\\:|\\:B_1)}{P(A)} = \\frac{\\frac{1}{3} \\cdot 0.9}{0.7667} = 0.3913$$"
   ]
  },
  {
   "cell_type": "markdown",
   "metadata": {},
   "source": [
    "* Вероятность того, что стрелял второй спортсмен — при условии, что выстрел был удачным\n",
    "$$P(B_2\\:|\\:A) = \\frac{P(B_2) \\cdot P(A\\:|\\:B_2)}{P(A)} = \\frac{\\frac{1}{3} \\cdot 0.8}{0.7667} = 0.3478$$"
   ]
  },
  {
   "cell_type": "markdown",
   "metadata": {},
   "source": [
    "* Вероятность того, что стрелял третий спортсмен — при условии, что выстрел был удачным\n",
    "$$P(B_3\\:|\\:A) = \\frac{P(B_3) \\cdot P(A\\:|\\:B_3)}{P(A)} = \\frac{\\frac{1}{3} \\cdot 0.6}{0.7667} = 0.2609$$"
   ]
  },
  {
   "cell_type": "markdown",
   "metadata": {},
   "source": [
    "#### 4. В университет на факультеты A и B поступило равное количество студентов, а на факультет C студентов поступило столько же, сколько на A и B вместе. Вероятность того, что студент факультета A сдаст первую сессию, равна 0.8. Для студента факультета B эта вероятность равна 0.7, а для студента факультета C - 0.9. Студент сдал первую сессию. Какова вероятность, что он учится: a). на факультете A б). на факультете B в). на факультете C?"
   ]
  },
  {
   "cell_type": "markdown",
   "metadata": {},
   "source": [
    "Чтобы определить вероятность события $B$ при условии, что событие $A$ уже произошло, используют формулу Байеса:$$P(B\\:|\\:A) = \\frac{P(B) \\cdot P(A\\:|\\:B)}{P(A)}$$"
   ]
  },
  {
   "cell_type": "markdown",
   "metadata": {},
   "source": [
    "Событием $A$ будем считать сдачу студентом первой сессии, а событиями $B_a, B_b$ и $B_c$ — сессию сдал студент факультета А, сессию сдал студент факультета В, сессию сдал студент факультета С:\n",
    "$$P(A\\:|\\:B_a) = 0.8$$\n",
    "\n",
    "$$P(A\\:|\\:B_b) = 0.7$$\n",
    "\n",
    "$$P(A\\:|\\:B_c) = 0.9$$"
   ]
  },
  {
   "cell_type": "markdown",
   "metadata": {},
   "source": [
    "Возможность сдать сессию у факультетов $P(B_a)=\\frac{1}{4}; P(B_b)=\\frac{1}{4}; P(B_c)=\\frac{1}{2}; \\ (x_a+x_b+2x_c=1 =>x=\\frac{1}{4})$"
   ]
  },
  {
   "cell_type": "markdown",
   "metadata": {},
   "source": [
    "$$P(A) = P(B_a) \\cdot P(A\\:|\\:B_a) + P(B_b) \\cdot P(A\\:|\\:B_b) + P(B_c) \\cdot P(A\\:|\\:B_c)=\\frac{1}{4} \\cdot 0.8 + \\frac{1}{4} \\cdot 0.7 + \\frac{1}{2} \\cdot 0.9=0.825$$"
   ]
  },
  {
   "cell_type": "markdown",
   "metadata": {},
   "source": [
    "* Вероятность того, что студент учится на факультете А — при условии, что студетнт сдал сессию\n",
    "$$P(B_a\\:|\\:A) = \\frac{P(B_a) \\cdot P(A\\:|\\:B_a)}{P(A)} = \\frac{\\frac{1}{4} \\cdot 0.8}{0.825}=0.2424$$"
   ]
  },
  {
   "cell_type": "markdown",
   "metadata": {},
   "source": [
    "* Вероятность того, что студент учится на факультете B — при условии, что студетнт сдал сессию\n",
    "$$P(B_b\\:|\\:A) = \\frac{P(B_b) \\cdot P(A\\:|\\:B_b)}{P(A)} = \\frac{\\frac{1}{4} \\cdot 0.7}{0.825} = 0.2121$$"
   ]
  },
  {
   "cell_type": "markdown",
   "metadata": {},
   "source": [
    "* Вероятность того, что студент учится на факультете C — при условии, что студетнт сдал сессию\n",
    "$$P(B_c\\:|\\:A) = \\frac{P(B_c) \\cdot P(A\\:|\\:B_c)}{P(A)} = \\frac{\\frac{1}{2} \\cdot 0.9}{0.825} = 0.5454$$"
   ]
  },
  {
   "cell_type": "markdown",
   "metadata": {},
   "source": [
    "#### 5. Устройство состоит из трех деталей. Для первой детали вероятность выйти из строя в первый месяц равна 0.1, для второй - 0.2, для третьей - 0.25. Какова вероятность того, что в первый месяц выйдут из строя: а). все детали б). только две детали в). хотя бы одна деталь г). от одной до двух деталей?"
   ]
  },
  {
   "cell_type": "markdown",
   "metadata": {},
   "source": [
    "Вероятность выхода из строя первой детали $$P(D_1)=0.1$$\n",
    "Вероятность выхода из строя второй детали $$P(D_2)=0.2$$\n",
    "Вероятность выхода из строя третьей детали $$P(D_3)=0.25$$\n",
    "#### a)\n",
    "$$P(D_1)\\cdot P(D_2)\\cdot P(D_3)=0.1\\cdot 0.2\\cdot 0.25=0.005$$ \n",
    "#### б)\n",
    "$$(1-P(D_3)\\cdot P(D_1)\\cdot P(D_2) + (1-P(D_2)\\cdot P(D_1)\\cdot P(D_3) + (1-P(D_1)\\cdot P(D_2)\\cdot P(D_3)=0.75\\cdot0.1\\cdot0.2+0.8\\cdot0.1\\cdot0.25+0.9\\cdot0.2\\cdot0.25=0.08$$\n",
    "#### в)\n",
    "$$1-(1-P(D_1))\\cdot (1-P(D_2))\\cdot (1-P(D_3))=1-0.9\\cdot0.8\\cdot0.75=0.46$$\n",
    "#### г)\n",
    "$$1-(1-P(D_1))\\cdot (1-P(D_2))\\cdot (1-P(D_3)) - P(D_1)\\cdot P(D_2)\\cdot P(D_3))=1-0.9\\cdot0.8\\cdot0.75-0.1\\cdot0.2\\cdot0.25=0,455$$"
   ]
  },
  {
   "cell_type": "code",
   "execution_count": null,
   "metadata": {},
   "outputs": [],
   "source": []
  }
 ],
 "metadata": {
  "kernelspec": {
   "display_name": "Python 3",
   "language": "python",
   "name": "python3"
  },
  "language_info": {
   "codemirror_mode": {
    "name": "ipython",
    "version": 3
   },
   "file_extension": ".py",
   "mimetype": "text/x-python",
   "name": "python",
   "nbconvert_exporter": "python",
   "pygments_lexer": "ipython3",
   "version": "3.8.3"
  }
 },
 "nbformat": 4,
 "nbformat_minor": 4
}
