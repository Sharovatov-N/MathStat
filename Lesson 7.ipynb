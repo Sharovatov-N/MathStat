{
 "cells": [
  {
   "cell_type": "code",
   "execution_count": 1,
   "metadata": {},
   "outputs": [],
   "source": [
    "import numpy as np\n",
    "import random\n",
    "import matplotlib.pyplot as plt"
   ]
  },
  {
   "cell_type": "markdown",
   "metadata": {},
   "source": [
    "### Урок 7"
   ]
  },
  {
   "cell_type": "markdown",
   "metadata": {},
   "source": [
    "#### 1. Даны значения величины заработной платы заемщиков банка (zp) и значения их поведенческого кредитного скоринга (ks):<br> zp = [35, 45, 190, 200, 40, 70, 54, 150, 120, 110], <br>ks = [401, 574, 874, 919, 459, 739, 653, 902, 746, 832].<br> Используя математические операции, посчитать коэффициенты линейной регрессии, приняв за X заработную плату (то есть, zp - признак), а за y - значения скорингового балла (то есть, ks - целевая переменная). Произвести расчет как с использованием intercept, так и без."
   ]
  },
  {
   "cell_type": "code",
   "execution_count": 2,
   "metadata": {},
   "outputs": [
    {
     "data": {
      "text/plain": [
       "array([ 35,  45, 190, 200,  40,  70,  54, 150, 120, 110])"
      ]
     },
     "execution_count": 2,
     "metadata": {},
     "output_type": "execute_result"
    }
   ],
   "source": [
    "x = np.array([35, 45, 190, 200, 40, 70, 54, 150, 120, 110])\n",
    "x"
   ]
  },
  {
   "cell_type": "code",
   "execution_count": 3,
   "metadata": {},
   "outputs": [
    {
     "data": {
      "text/plain": [
       "array([401, 574, 874, 919, 459, 739, 653, 902, 746, 832])"
      ]
     },
     "execution_count": 3,
     "metadata": {},
     "output_type": "execute_result"
    }
   ],
   "source": [
    "y = np.array([401, 574, 874, 919, 459, 739, 653, 902, 746, 832])\n",
    "y"
   ]
  },
  {
   "cell_type": "markdown",
   "metadata": {},
   "source": [
    "$$\\hat{y}=\\beta_0+\\beta_1\\cdot x$$\n",
    "* расчет коэффициентов линейной регрессии с использованием intercept\n",
    "$$\\beta_1 = \\frac{\\overline{yx} - \\overline{y} \\cdot {\\overline{x}}}{\\overline{x^2} - (\\overline{x})^2};$$\n",
    "$$\\beta_0 = \\overline{y} - \\beta_1 \\cdot {\\overline{x}}.$$"
   ]
  },
  {
   "cell_type": "code",
   "execution_count": 4,
   "metadata": {},
   "outputs": [
    {
     "data": {
      "text/plain": [
       "2.620538882402765"
      ]
     },
     "execution_count": 4,
     "metadata": {},
     "output_type": "execute_result"
    }
   ],
   "source": [
    "b1 = (np.mean(x * y) - np.mean(x) * np.mean(y)) / (np.mean(x**2) - np.mean(x) ** 2)\n",
    "b1"
   ]
  },
  {
   "cell_type": "code",
   "execution_count": 5,
   "metadata": {},
   "outputs": [
    {
     "data": {
      "text/plain": [
       "444.1773573243596"
      ]
     },
     "execution_count": 5,
     "metadata": {},
     "output_type": "execute_result"
    }
   ],
   "source": [
    "b0 = np.mean(y) - b1 * np.mean(x)\n",
    "b0"
   ]
  },
  {
   "cell_type": "code",
   "execution_count": 6,
   "metadata": {},
   "outputs": [
    {
     "data": {
      "text/plain": [
       "array([535.89621821, 562.10160703, 942.07974498, 968.2851338 ,\n",
       "       548.99891262, 627.61507909, 585.68645697, 837.25818968,\n",
       "       758.64202321, 732.43663439])"
      ]
     },
     "execution_count": 6,
     "metadata": {},
     "output_type": "execute_result"
    }
   ],
   "source": [
    "y_hat = b0 + b1*x\n",
    "y_hat"
   ]
  },
  {
   "cell_type": "code",
   "execution_count": 7,
   "metadata": {},
   "outputs": [
    {
     "data": {
      "text/plain": [
       "array([[444.17735732],\n",
       "       [  2.62053888]])"
      ]
     },
     "execution_count": 7,
     "metadata": {},
     "output_type": "execute_result"
    }
   ],
   "source": [
    "x1 = x.reshape((10, 1))\n",
    "x1 = np.hstack([np.ones((10, 1)), x1])\n",
    "y1 = y.reshape((10, 1))\n",
    "B = np.dot(np.linalg.inv(np.dot(x1.T, x1)), x1.T@y1)\n",
    "B"
   ]
  },
  {
   "cell_type": "code",
   "execution_count": 8,
   "metadata": {},
   "outputs": [
    {
     "data": {
      "image/png": "[encoded data removed]",
      "text/plain": [
       "<Figure size 432x288 with 1 Axes>"
      ]
     },
     "metadata": {
      "needs_background": "light"
     },
     "output_type": "display_data"
    }
   ],
   "source": [
    "plt.scatter(x, y)\n",
    "plt.plot(x, b0 + b1 * x)\n",
    "plt.xlabel('x')\n",
    "plt.ylabel('y')\n",
    "plt.show()"
   ]
  },
  {
   "cell_type": "markdown",
   "metadata": {},
   "source": [
    "* расчет коэффициентов линейной регрессии без использованием intercept ($\\beta_0=0$)\n",
    "$$\\beta_0 = \\overline{y} - \\beta_1 \\cdot {\\overline{x}}\\implies\\beta_1=\\frac{\\overline{y}}{\\overline{x}}$$"
   ]
  },
  {
   "cell_type": "code",
   "execution_count": 9,
   "metadata": {},
   "outputs": [
    {
     "data": {
      "text/plain": [
       "7.000986193293885"
      ]
     },
     "execution_count": 9,
     "metadata": {},
     "output_type": "execute_result"
    }
   ],
   "source": [
    "b_1 = np.mean(y) / np.mean(x)\n",
    "b_1"
   ]
  },
  {
   "cell_type": "code",
   "execution_count": 10,
   "metadata": {},
   "outputs": [
    {
     "data": {
      "image/png": "[encoded data removed]",
      "text/plain": [
       "<Figure size 432x288 with 1 Axes>"
      ]
     },
     "metadata": {
      "needs_background": "light"
     },
     "output_type": "display_data"
    }
   ],
   "source": [
    "plt.scatter(x, y)\n",
    "plt.plot(x, b_1 * x)\n",
    "plt.xlabel('x')\n",
    "plt.ylabel('y')\n",
    "plt.show()"
   ]
  },
  {
   "cell_type": "code",
   "execution_count": 11,
   "metadata": {},
   "outputs": [
    {
     "data": {
      "text/plain": [
       "array([[5.88982042]])"
      ]
     },
     "execution_count": 11,
     "metadata": {},
     "output_type": "execute_result"
    }
   ],
   "source": [
    "x2 = x.reshape((10, 1))\n",
    "y2 = y.reshape((10, 1))\n",
    "B1 = np.dot(np.linalg.inv(np.dot(x2.T, x2)), x2.T@y2)\n",
    "B1"
   ]
  },
  {
   "cell_type": "code",
   "execution_count": 12,
   "metadata": {},
   "outputs": [
    {
     "data": {
      "image/png": "[encoded data removed]",
      "text/plain": [
       "<Figure size 432x288 with 1 Axes>"
      ]
     },
     "metadata": {
      "needs_background": "light"
     },
     "output_type": "display_data"
    }
   ],
   "source": [
    "plt.scatter(x, y)\n",
    "plt.plot(x2, B1 * x2)\n",
    "plt.xlabel('x')\n",
    "plt.ylabel('y')\n",
    "plt.show()"
   ]
  },
  {
   "cell_type": "markdown",
   "metadata": {},
   "source": [
    "**В моих рассуждениях, что при $\\beta_0=0$, $\\beta_0 = \\overline{y} - \\beta_1 \\cdot {\\overline{x}}\\implies\\beta_1=\\frac{\\overline{y}}{\\overline{x}}$ закралась ошибка. Надо разбираться.**"
   ]
  },
  {
   "cell_type": "markdown",
   "metadata": {},
   "source": [
    "#### 2. Посчитать коэффициент линейной регрессии при заработной плате (zp), используя градиентный спуск (без intercept)."
   ]
  },
  {
   "cell_type": "code",
   "execution_count": 13,
   "metadata": {},
   "outputs": [],
   "source": [
    "alpha = 1e-6\n",
    "n = x.size\n",
    "B1 = 0.1"
   ]
  },
  {
   "cell_type": "code",
   "execution_count": 14,
   "metadata": {},
   "outputs": [],
   "source": [
    "def mse_(B1, y = y, x = x, n = 10):\n",
    "    return np.sum((B1 * x - y)**2) / n"
   ]
  },
  {
   "cell_type": "code",
   "execution_count": 15,
   "metadata": {},
   "outputs": [
    {
     "name": "stdout",
     "output_type": "stream",
     "text": [
      "i =  0;\t B1 = 0.25952808;\t mse = 493237.7212546963\n",
      "i = 10;\t B1 = 1.6319792142;\t mse = 306275.7568040035\n",
      "i = 20;\t B1 = 2.6698789607;\t mse = 199352.96411174876\n",
      "i = 30;\t B1 = 3.4547782236;\t mse = 138204.25062502263\n",
      "i = 40;\t B1 = 4.0483488986;\t mse = 103233.54824312925\n",
      "i = 50;\t B1 = 4.4972296184;\t mse = 83233.94472982832\n",
      "i = 60;\t B1 = 4.8366902911;\t mse = 71796.25222021657\n",
      "i = 70;\t B1 = 5.0934033626;\t mse = 65255.0820486468\n",
      "i = 80;\t B1 = 5.2875395509;\t mse = 61514.21323463749\n",
      "i = 90;\t B1 = 5.4343527201;\t mse = 59374.825462025976\n"
     ]
    }
   ],
   "source": [
    "# Число итераций = 100\n",
    "\n",
    "for i in range(100):\n",
    "    B1 -= alpha * (2 / n) * np.sum((B1 * x - y) * x)\n",
    "    if (i % 10 == 0):\n",
    "        print(f'i = {i:{2}};\\t B1 = {round(B1, 10)};\\t mse = {round(mse_(B1), 12)}')"
   ]
  },
  {
   "cell_type": "code",
   "execution_count": 16,
   "metadata": {},
   "outputs": [
    {
     "name": "stdout",
     "output_type": "stream",
     "text": [
      "i =  0;\t B1 = 5.6332128554;\t mse = 57424.01228897413\n",
      "i = 10;\t B1 = 5.8796001699;\t mse = 56518.29743000421\n",
      "i = 20;\t B1 = 5.8894133647;\t mse = 56516.86069842159\n",
      "i = 30;\t B1 = 5.8898042078;\t mse = 56516.85841934044\n",
      "i = 40;\t B1 = 5.8898197744;\t mse = 56516.85841572515\n",
      "i = 50;\t B1 = 5.8898203944;\t mse = 56516.85841571941\n",
      "i = 60;\t B1 = 5.8898204191;\t mse = 56516.85841571941\n",
      "i = 70;\t B1 = 5.8898204201;\t mse = 56516.85841571941\n",
      "i = 80;\t B1 = 5.8898204201;\t mse = 56516.8584157194\n",
      "i = 90;\t B1 = 5.8898204201;\t mse = 56516.85841571939\n"
     ]
    }
   ],
   "source": [
    "# Число итераций = 100\n",
    "# Увеличим alpha в 10 раз\n",
    "\n",
    "for i in range(100):\n",
    "    B1 -= alpha * 10 * (2 / n) * np.sum((B1 * x - y) * x)\n",
    "    if (i % 10 == 0):\n",
    "        print(f'i = {i:{2}};\\t B1 = {round(B1, 10)};\\t mse = {round(mse_(B1), 12)}')"
   ]
  },
  {
   "cell_type": "markdown",
   "metadata": {},
   "source": [
    "#### 3. В каких случаях для вычисления доверительных интервалов и проверки статистических гипотез используется таблица значений функции Лапласа, а в каких - таблица критических точек распределения Стьюдента?"
   ]
  },
  {
   "cell_type": "markdown",
   "metadata": {},
   "source": [
    "* Таблица Лапласа используется в случаях, когда известна $\\sigma$ генеральной совокупности\n",
    "* Таблица критических значений t-критерия Стьюдента используется, когда не известна $\\sigma$ генеральной совокупности "
   ]
  },
  {
   "cell_type": "markdown",
   "metadata": {},
   "source": [
    "#### 4. Произвести вычисления как в пункте 2, но с вычислением intercept. Учесть, что изменение коэффициентов должно производиться на каждом шаге одновременно (то есть изменение одного коэффициента не должно влиять на изменение другого во время одной итерации)."
   ]
  },
  {
   "cell_type": "code",
   "execution_count": 17,
   "metadata": {},
   "outputs": [],
   "source": [
    "alpha = 1e-5\n",
    "n = x.size\n",
    "B1 = 1\n",
    "B0 = 100"
   ]
  },
  {
   "cell_type": "code",
   "execution_count": 18,
   "metadata": {},
   "outputs": [],
   "source": [
    "def mse_(B0, B1, y = y, x = x, n = 10):\n",
    "    return np.sum(((B0 + B1 * x) - y)**2) / n"
   ]
  },
  {
   "cell_type": "code",
   "execution_count": 19,
   "metadata": {},
   "outputs": [
    {
     "name": "stdout",
     "output_type": "stream",
     "text": [
      "i =      0;\t B0 = 100.01017;\t B1 = 2.1444813752;\t mse = 161271.1043181803\n",
      "i = 1000000;\t B0 = 442.0220113994;\t B1 = 2.6364031009;\t mse = 6471.592605589833\n",
      "i = 2000000;\t B0 = 444.1638586086;\t B1 = 2.6206382384;\t mse = 6470.414247398292\n",
      "i = 3000000;\t B0 = 444.1772727833;\t B1 = 2.6205395047;\t mse = 6470.414201178474\n",
      "i = 4000000;\t B0 = 444.1773567949;\t B1 = 2.6205388863;\t mse = 6470.41420117666\n",
      "i = 5000000;\t B0 = 444.1773573188;\t B1 = 2.6205388824;\t mse = 6470.414201176661\n",
      "i = 6000000;\t B0 = 444.1773573188;\t B1 = 2.6205388824;\t mse = 6470.414201176661\n"
     ]
    }
   ],
   "source": [
    "# Число итераций = 6000000\n",
    "\n",
    "for i in range(6000001):\n",
    "    B0 -= alpha * (2 / n) * np.sum((B0 + B1 * x) - y)\n",
    "    B1 -= alpha * (2 / n) * np.sum(((B0 + B1 * x) - y) * x)\n",
    "    if (i % 1000000 == 0):\n",
    "        print(f'i = {i:{6}};\\t B0 = {round(B0, 10)};\\t B1 = {round(B1, 10)};\\t mse = {round(mse_(B0, B1), 12)}')"
   ]
  },
  {
   "cell_type": "code",
   "execution_count": null,
   "metadata": {},
   "outputs": [],
   "source": []
  }
 ],
 "metadata": {
  "kernelspec": {
   "display_name": "Python 3",
   "language": "python",
   "name": "python3"
  },
  "language_info": {
   "codemirror_mode": {
    "name": "ipython",
    "version": 3
   },
   "file_extension": ".py",
   "mimetype": "text/x-python",
   "name": "python",
   "nbconvert_exporter": "python",
   "pygments_lexer": "ipython3",
   "version": "3.8.3"
  }
 },
 "nbformat": 4,
 "nbformat_minor": 4
}
