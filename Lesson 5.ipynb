{
 "cells": [
  {
   "cell_type": "code",
   "execution_count": 1,
   "metadata": {},
   "outputs": [],
   "source": [
    "import numpy as np"
   ]
  },
  {
   "cell_type": "markdown",
   "metadata": {},
   "source": [
    "### Урок 5"
   ]
  },
  {
   "cell_type": "markdown",
   "metadata": {},
   "source": [
    "#### 1. Известно, что генеральная совокупность распределена нормально со средним квадратическим отклонением, равным 16. Найти доверительный интервал для оценки математического ожидания a с надежностью 0.95, если выборочная средняя M = 80, а объем выборки n = 256."
   ]
  },
  {
   "cell_type": "markdown",
   "metadata": {},
   "source": [
    "Границы доверительного интервала находим по формуле:\n",
    "$$T_{1,2} = \\overline{X} \\pm Z_{\\frac{\\alpha}{2}}\\cdot \\frac{\\sigma}{\\sqrt{n}}$$\n",
    "По таблице находим $Z_{\\frac{\\alpha}{2}}=1.96$<br>\n",
    "По условию задачи $\\overline{X}=80, \\ \\sigma=16, \\ n=256$<br>\n",
    "Находим границы доверительного интервала:\n",
    "$$T_{1,2} = 80 \\pm 1.96\\cdot \\frac{16}{\\sqrt{256}}$$\n",
    "$$T_{1,2} = [78.04;81.96]$$"
   ]
  },
  {
   "cell_type": "markdown",
   "metadata": {},
   "source": [
    "#### 2. В результате 10 независимых измерений некоторой величины X, выполненных с одинаковой точностью, получены опытные данные: 6.9, 6.1, 6.2, 6.8, 7.5, 6.3, 6.4, 6.9, 6.7, 6.1 Предполагая, что результаты измерений подчинены нормальному закону распределения вероятностей, оценить истинное значение величины X при помощи доверительного интервала, покрывающего это значение с доверительной вероятностью 0,95. "
   ]
  },
  {
   "cell_type": "markdown",
   "metadata": {},
   "source": [
    "Границы доверительного интервала находим по формуле:\n",
    "$$T_{1,2} = \\overline{X} \\pm t_{\\frac{\\alpha}{2}}\\cdot \\frac{\\sigma}{\\sqrt{n}}$$\n",
    "По таблице находим $t_{\\frac{\\alpha}{2}}=2.262$<br>\n",
    "Находим $\\overline{X}$ по выборке:"
   ]
  },
  {
   "cell_type": "code",
   "execution_count": 11,
   "metadata": {},
   "outputs": [
    {
     "data": {
      "text/plain": [
       "6.589999999999999"
      ]
     },
     "execution_count": 11,
     "metadata": {},
     "output_type": "execute_result"
    }
   ],
   "source": [
    "a = (6.9, 6.1, 6.2, 6.8, 7.5, 6.3, 6.4, 6.9, 6.7, 6.1)\n",
    "x = sum(a) / len(a)\n",
    "x"
   ]
  },
  {
   "cell_type": "markdown",
   "metadata": {},
   "source": [
    "Находим $\\sigma_{н}$ по выборке:"
   ]
  },
  {
   "cell_type": "code",
   "execution_count": 13,
   "metadata": {},
   "outputs": [
    {
     "data": {
      "text/plain": [
       "0.4508017549014448"
      ]
     },
     "execution_count": 13,
     "metadata": {},
     "output_type": "execute_result"
    }
   ],
   "source": [
    "sigma = np.std(a, ddof=1)\n",
    "sigma"
   ]
  },
  {
   "cell_type": "markdown",
   "metadata": {},
   "source": [
    "Находим границы доверительного интервала:\n",
    "$$T_{1,2} = 6,59 \\pm 2,262\\cdot \\frac{0,45}{\\sqrt{10}}$$\n",
    "$$T_{1,2} = [6,2681;6,9119]$$"
   ]
  },
  {
   "cell_type": "markdown",
   "metadata": {},
   "source": [
    "#### 3. Утверждается, что шарики для подшипников, изготовленные автоматическим станком, имеют средний диаметр 17 мм. Используя односторонний критерий с α=0,05, проверить эту гипотезу, если в выборке из n=100 шариков средний диаметр оказался равным 17.5 мм, а дисперсия известна и равна 4 кв.мм."
   ]
  },
  {
   "cell_type": "markdown",
   "metadata": {},
   "source": [
    "**1)**<br>\n",
    "$H_0:диаметр=17 мм, \\mu=\\mu_0$<br>\n",
    "$H_1:диаметр=17,5 мм, \\mu>\\mu_0$<br>\n",
    "**2)**<br>\n",
    "Критерий - Z<br>\n",
    "**3)**<br>\n",
    "Уровень значимости $\\alpha=0.05 \\ (5\\%)$<br>\n",
    "**4)**<br>\n",
    "$Z_{Табличное}=1.645, \\ $ для уровня значимости $\\alpha=5\\%$<br>\n",
    "$Z_{Расчетное}=\\frac{\\overline{X}-\\mu_0}{\\frac{\\sigma}{\\sqrt{n}}}=(17.5-17)\\cdot \\frac{5}{1}=2.5$<br>\n",
    "**5)**<br>\n",
    "$H_1 \\ $верна для уровня значимости $\\alpha=5\\%$"
   ]
  },
  {
   "cell_type": "markdown",
   "metadata": {},
   "source": [
    "#### 4. Продавец утверждает, что средний вес пачки печенья составляет 200 г. Из партии извлечена выборка из 10 пачек. Вес каждой пачки составляет: 202, 203, 199, 197, 195, 201, 200, 204, 194, 190. Известно, что их веса распределены нормально. Верно ли утверждение продавца, если учитывать, что доверительная вероятность равна 99%?"
   ]
  },
  {
   "cell_type": "markdown",
   "metadata": {},
   "source": [
    "$$t_{Расчетное}=\\frac{\\overline{X}-\\mu}{\\frac{\\sigma}{\\sqrt{n}}}=\\frac{\\overline{X}-\\mu}{\\sigma}\\cdot \\sqrt{n}$$\n",
    "Находим $\\overline{X}$ по выборке:"
   ]
  },
  {
   "cell_type": "code",
   "execution_count": 14,
   "metadata": {},
   "outputs": [
    {
     "data": {
      "text/plain": [
       "198.5"
      ]
     },
     "execution_count": 14,
     "metadata": {},
     "output_type": "execute_result"
    }
   ],
   "source": [
    "a = (202, 203, 199, 197, 195, 201, 200, 204, 194, 190)\n",
    "x = sum(a) / len(a)\n",
    "x"
   ]
  },
  {
   "cell_type": "markdown",
   "metadata": {},
   "source": [
    "Находим $\\sigma_{н}$ по выборке:"
   ]
  },
  {
   "cell_type": "code",
   "execution_count": 15,
   "metadata": {},
   "outputs": [
    {
     "data": {
      "text/plain": [
       "4.453463071962462"
      ]
     },
     "execution_count": 15,
     "metadata": {},
     "output_type": "execute_result"
    }
   ],
   "source": [
    "sigma = np.std(a, ddof=1)\n",
    "sigma"
   ]
  },
  {
   "cell_type": "markdown",
   "metadata": {},
   "source": [
    "**1)**<br>\n",
    "$H_0:\\mu=200 г$<br>\n",
    "$H_1:\\mu\\ne200 г$<br>\n",
    "**2)**<br>\n",
    "Критерий - t<br>\n",
    "**3)**<br>\n",
    "Уровень значимости $\\alpha=0.01 \\ (1\\%)$<br>\n",
    "**4)**<br>\n",
    "По таблице критических точек распределения Стьюдента находим критическую точку для\n",
    "уровня значимости α = 0,01 и числу степеней свободы v = 9 : $$t_{кр}≈ 3,25$$\n",
    "$t_{Расчетное}=\\frac{\\overline{X}-\\mu}{\\sigma}\\cdot \\sqrt{n}=\\frac{198.5-200}{4.4535}\\cdot \\sqrt{10}\\approx-1.065$<br>\n",
    "**5)**<br>\n",
    "Так как $\\left|t_{Расчетное}\\right| = 1.065 < t_{кр}=3,25 $, то $H_0$ гипотезу о равенстве среднего веса 200 г\n",
    "можно принять."
   ]
  },
  {
   "cell_type": "code",
   "execution_count": null,
   "metadata": {},
   "outputs": [],
   "source": []
  }
 ],
 "metadata": {
  "kernelspec": {
   "display_name": "Python 3",
   "language": "python",
   "name": "python3"
  },
  "language_info": {
   "codemirror_mode": {
    "name": "ipython",
    "version": 3
   },
   "file_extension": ".py",
   "mimetype": "text/x-python",
   "name": "python",
   "nbconvert_exporter": "python",
   "pygments_lexer": "ipython3",
   "version": "3.8.3"
  }
 },
 "nbformat": 4,
 "nbformat_minor": 4
}
